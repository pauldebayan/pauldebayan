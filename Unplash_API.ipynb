{
  "nbformat": 4,
  "nbformat_minor": 0,
  "metadata": {
    "colab": {
      "provenance": [],
      "authorship_tag": "ABX9TyNe7IfUG28qQV+MQlYB2FKg",
      "include_colab_link": true
    },
    "kernelspec": {
      "name": "python3",
      "display_name": "Python 3"
    },
    "language_info": {
      "name": "python"
    }
  },
  "cells": [
    {
      "cell_type": "markdown",
      "metadata": {
        "id": "view-in-github",
        "colab_type": "text"
      },
      "source": [
        "<a href=\"https://colab.research.google.com/github/pauldebayan/pauldebayan/blob/main/Unplash_API.ipynb\" target=\"_parent\"><img src=\"https://colab.research.google.com/assets/colab-badge.svg\" alt=\"Open In Colab\"/></a>"
      ]
    },
    {
      "cell_type": "code",
      "execution_count": 2,
      "metadata": {
        "colab": {
          "base_uri": "https://localhost:8080/"
        },
        "id": "Cn64YQ9y5FuU",
        "outputId": "6959b14a-0d6d-4acd-984d-b870ba877f02"
      },
      "outputs": [
        {
          "output_type": "execute_result",
          "data": {
            "text/plain": [
              "5"
            ]
          },
          "metadata": {},
          "execution_count": 2
        }
      ],
      "source": [
        "import requests\n",
        "import json\n",
        "\n",
        "from google.colab import userdata\n",
        "access_key = userdata.get('UNSPLASH_API_ACCESSKEY')\n",
        "\n",
        "def search_images_unsplash(query):\n",
        "  url = f\"https://api.unsplash.com/search/photos?query={query}&client_id={access_key}&per_page=5\"\n",
        "  response = requests.get(url)\n",
        "  data = json.loads(response.text)\n",
        "  images = []\n",
        "  for photo in data['results']:\n",
        "    images.append(photo['urls']['thumb'])\n",
        "  return images\n",
        "\n",
        "# Example usage:\n",
        "ims = search_images_unsplash(\"machine learning\")\n",
        "len(ims)"
      ]
    }
  ]
}